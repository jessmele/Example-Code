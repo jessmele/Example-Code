{
 "cells": [
  {
   "cell_type": "markdown",
   "metadata": {},
   "source": [
    "\n",
    "# Homework 4\n",
    "\n",
    "### Instructions\n",
    "\n",
    "+ This homework is worth 10 points.\n",
    "+ Please write you solutions in the cells below each problem.\n",
    "+ The solutions may be in the form of code, markdown, or a combination of both.\n",
    "+ Please submit this notebook in your git repository, under the folder problemset. The notebook should be titled lastname_firstname_hw4.ipynb (all lower case)."
   ]
  },
  {
   "cell_type": "markdown",
   "metadata": {},
   "source": [
    "### Arvind:\n",
    "\n",
    "2 + 3 + 3 + 2 = 10 points. See comments below."
   ]
  },
  {
   "cell_type": "markdown",
   "metadata": {},
   "source": [
    "### Problem 1: First half and backwards (2 points)\n",
    "\n",
    "Write two new functions `first_half` and `backwards` that use slicing and indexing.\n",
    "    1. `first_half` should accept a list and return the first half. Exclude the middle entry if there are odd number of terms.\n",
    "    2. `backwards` should accept a list and return the list in reverse. Do not use `list.reverse()`.\n",
    "\n",
    "Demonstrate that your functions work, by testing them on at least two different lists of your choice."
   ]
  },
  {
   "cell_type": "code",
   "execution_count": 1,
   "metadata": {},
   "outputs": [
    {
     "name": "stdout",
     "output_type": "stream",
     "text": [
      "[1, 2, 3, 4, 5] First half:  [1, 2]\n",
      "[7, 13, 13, 10, 1, 12, 14, 6, 19, 19] First half:  [7, 13, 13, 10, 1]\n",
      "[1, 2, 3, 4, 5] Backwards:  [5, 4, 3, 2, 1]\n",
      "[7, 13, 13, 10, 1, 12, 14, 6, 19, 19] Backwards:  [19, 19, 6, 14, 12, 1, 10, 13, 13, 7]\n"
     ]
    }
   ],
   "source": [
    "import random\n",
    "\n",
    "list1 = [1,2,3,4,5] \n",
    "list2 = [random.randint(0,20) for i in range(10)] \n",
    "\n",
    "\n",
    "\n",
    "def first_half(arr):\n",
    "    return arr[:int(len(arr)/2)]\n",
    "\n",
    "def backwards(arr):\n",
    "    return arr[::-1]\n",
    "\n",
    "#test the first_half function\n",
    "print(list1, \"First half: \",first_half(list1))\n",
    "print(list2, \"First half: \", first_half(list2))\n",
    "\n",
    "#test the backwards function\n",
    "print(list1, \"Backwards: \", backwards(list1))\n",
    "print(list2, \"Backwards: \",backwards(list2))\n"
   ]
  },
  {
   "cell_type": "markdown",
   "metadata": {},
   "source": [
    "### Problem 2: List the Stark children ( 3 points)\n",
    "\n",
    "Write a function called `list_ops()`. \n",
    "\n",
    "0. Define a list with the entries \"Robb\", \"Sansa\",  \"Arya\", \"Brandon\", \"Rickon\", \"Jon\".\n",
    "1. Append \"Theon\" at the end. \n",
    "2. Remove \"Robb\" and \"Rickon\"  from the list.\n",
    "2. Sort the list in reverse alphabetical order. Hint: look up `list.sort()`\n",
    "3. Remove \"Jon\" from the list.\n",
    "4. Rename \"Brandon\" as \"Three Eyed Raven\"\n",
    "\n",
    "Return the resulting list. It may help to first work it out on paper and print the list at each step to check the intermediate results.\n",
    "\n",
    "Optional: You can also rename Arya as \"No One\" and then rename her Arya. "
   ]
  },
  {
   "cell_type": "code",
   "execution_count": 2,
   "metadata": {},
   "outputs": [
    {
     "name": "stdout",
     "output_type": "stream",
     "text": [
      "['Theon', 'Sansa', 'Three Eyed Raven', 'Arya']\n"
     ]
    }
   ],
   "source": [
    "def list_ops():\n",
    "    \n",
    "    stark_names = [\"Robb\", \"Sansa\", \"Arya\",\"Brandon\", \"Rickon\",\"Jon\"] #define list with names\n",
    "    stark_names.append(\"Theon\") #append \"Theon\" at the end\n",
    "    stark_names.remove(\"Robb\"); stark_names.remove(\"Rickon\") #remove \"Robb\" and \"Rickon\" from the list\n",
    "    stark_names.sort(reverse = True) #sort the list in reverse alphabetical order\n",
    "    stark_names.remove(\"Jon\") #remove \"Jon\"\n",
    "    idx = stark_names.index(\"Brandon\") #retrieve index of \"Brandon\" in names list\n",
    "    stark_names[idx] = \"Three Eyed Raven\" #change the name of \"Brandon\" to \"Three Eyed Raven\"\n",
    "    \n",
    "    #optional\n",
    "    idx2 = stark_names.index(\"Arya\") #retrieve index of \"Arya\"\n",
    "    stark_names[idx2] = \"No One\" #rename \"Arya\" as \"No One\"\n",
    "    stark_names[idx2] = \"Arya\" #rename \"No One\" as \"Arya\"\n",
    "    print(stark_names)\n",
    "    \n",
    "list_ops()"
   ]
  },
  {
   "cell_type": "markdown",
   "metadata": {},
   "source": [
    "### Arvind:\n",
    "\n",
    "You were asked to return the list rather than just printing it. "
   ]
  },
  {
   "cell_type": "markdown",
   "metadata": {},
   "source": [
    "\n",
    "### Problem 3: Nested lists (3 points)\n",
    "    \n",
    "We define the following nested list:\n",
    "``` \n",
    "q = [[’a’, ’b’, ’c’], [’d’, ’e’, ’f’], [’g’, ’h’]]\n",
    "```\n",
    "\n",
    "Index this list to extract \n",
    "+ the letter 'a' \n",
    "+ the list [’d’, ’e’, ’f’]\n",
    "+ the last element 'h' \n",
    "+ the `d' element. \n",
    "\n",
    "\n",
    "Explain why q[-1][-2] has the value g.\n"
   ]
  },
  {
   "cell_type": "code",
   "execution_count": 3,
   "metadata": {},
   "outputs": [
    {
     "name": "stdout",
     "output_type": "stream",
     "text": [
      "a\n",
      "['d', 'e', 'f']\n",
      "h\n",
      "d\n"
     ]
    }
   ],
   "source": [
    "q = [['a','b','c'], ['d','e','f'],['g','h']]\n",
    "print(q[0][0]) #extract a\n",
    "print(q[1]) #the list ['d','e','f']\n",
    "print(q[-1][-1]) #last element h\n",
    "print(q[1][0]) #d"
   ]
  },
  {
   "cell_type": "markdown",
   "metadata": {},
   "source": [
    "The element 'q[-1][-2]' has the value g because the first element indexed by -1 selects the last \"inner\" list in the nested list. The second element indexed by -2 selects the second element from the end of the list, which in this case is the letter g."
   ]
  },
  {
   "cell_type": "markdown",
   "metadata": {},
   "source": [
    "### Problem 4: Area of a triangle (2 points)\n",
    "\n",
    "We can use a dictionary to store the vertices of a triangle. The vertices can be labeled in counterclockwise direction and stored as tuples. Example:\n",
    " \n",
    "```\n",
    "pts = {'1': (0,0), '2': (1,0), '3': (0,2)}\n",
    "```\n",
    "\n",
    "Write a function to compute the area of the triangle defined by this data structure. The function should take in a dictionary of the form above. Recall that the formula for the area of a triangle with vertices $(x_1,y_1), (x_2,y_2), (x_3,y_3)$ is \n",
    "\n",
    "$$ A = \\frac{1}{2} | x_2y_3 - x_3y_2 - x_1y_3 + x_3y_1 + x_1y_2 - x_2y_1|. $$"
   ]
  },
  {
   "cell_type": "code",
   "execution_count": 4,
   "metadata": {},
   "outputs": [
    {
     "name": "stdout",
     "output_type": "stream",
     "text": [
      "Test 1\n",
      "The computed area is 1.0, and the correct area is 1.0.\n",
      "The absolute error is 0\n",
      "\n",
      "\n",
      "Test 2\n",
      "The computed area is 25.0, and the correct area is 25.0.\n",
      "The absolute error is 0\n",
      "\n",
      "\n"
     ]
    }
   ],
   "source": [
    "def trianglearea(pts):\n",
    "    \n",
    "    \"\"\"\n",
    "    This function computes the area of a triangle with pts is a dictionary of the form \n",
    "    pts = {'1': (0,0), '2': (1,0), '3': (0,2)}\n",
    "\n",
    "    The inputs are assumed to be real numbers.\n",
    "    \n",
    "    \"\"\"\n",
    "    \n",
    "    x1 = pts['1'][0]; y1 = pts['1'][1] #retrieve values for the vertices\n",
    "    x2 = pts['2'][0]; y2 = pts['2'][1]\n",
    "    x3 = pts['3'][0]; y3 = pts['3'][1]\n",
    "    \n",
    "    A = (1/2.0)*abs(x2*y3-x3*y2-x1*y3+x3*y1+x1*y2-x2*y1)\n",
    "    \n",
    "    \n",
    "    return A\n",
    "\n",
    "\n",
    "def testtrianglearea():\n",
    "    \"\"\"\n",
    "    This function tests the correctness of your implementation\n",
    "    \n",
    "    \"\"\"\n",
    "    # Test 1: Vertices (0,0), (1,0), (0,2)\n",
    "    pts1 = {'1': (0,0), '2': (1,0), '3': (0,2)}\n",
    "    Acomp = trianglearea(pts1)\n",
    "    Atrue = 1.0\n",
    "    print('Test 1')\n",
    "    print(\"The computed area is {0}, and the correct area is {1}.\".format(Acomp,Atrue))\n",
    "    print(\"The absolute error is %0.15g\" % (abs(Atrue - Acomp)))\n",
    "    print('\\n')\n",
    "    \n",
    "    # Test 2: Vertices (2,1), (8,9), (1,8)\n",
    "    pts2 = {'1': (2,1), '2': (8,9), '3': (1,8)}\n",
    "    Acomp = trianglearea(pts2)\n",
    "    Atrue = 25.0\n",
    "    print('Test 2')\n",
    "    print(\"The computed area is {0}, and the correct area is {1}.\".format(Acomp,Atrue))\n",
    "    print(\"The absolute error is %0.15g\" % (abs(Atrue - Acomp)))\n",
    "    print('\\n')\n",
    "    \n",
    "    return\n",
    "\n",
    "#Testing your implementation\n",
    "testtrianglearea()"
   ]
  },
  {
   "cell_type": "code",
   "execution_count": null,
   "metadata": {},
   "outputs": [],
   "source": []
  }
 ],
 "metadata": {
  "kernelspec": {
   "display_name": "Python 3",
   "language": "python",
   "name": "python3"
  },
  "language_info": {
   "codemirror_mode": {
    "name": "ipython",
    "version": 3
   },
   "file_extension": ".py",
   "mimetype": "text/x-python",
   "name": "python",
   "nbconvert_exporter": "python",
   "pygments_lexer": "ipython3",
   "version": "3.7.3"
  }
 },
 "nbformat": 4,
 "nbformat_minor": 2
}
