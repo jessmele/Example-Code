{
 "cells": [
  {
   "cell_type": "markdown",
   "metadata": {},
   "source": [
    "# Homework 3\n",
    "\n",
    "## Instructions\n",
    "+ This homework is worth 10 points.\n",
    "+ Please write you solutions in the cells below each problem.\n",
    "+ The solutions may be in the form of code, markdown, or a combination of both.\n",
    "+ Please submit this notebook in your git repository, under the folder `problemset`. The notebook should be titled `lastname_firstname_hw3.ipynb` (all lower case)."
   ]
  },
  {
   "cell_type": "markdown",
   "metadata": {},
   "source": [
    "### Problem 1 (2 points): \n",
    "    \n",
    "Find and fix the errors in the following program. \n",
    "\n",
    "```\n",
    "C=A+B \n",
    "A=3 \n",
    "B=2 \n",
    "print(C)\n",
    "```"
   ]
  },
  {
   "cell_type": "markdown",
   "metadata": {},
   "source": [
    "##Explain the error here\n",
    "The above program will not run because the commands are out of order. You cannot define C in terms of A and B before A and B are defined. \n"
   ]
  },
  {
   "cell_type": "code",
   "execution_count": 6,
   "metadata": {},
   "outputs": [
    {
     "name": "stdout",
     "output_type": "stream",
     "text": [
      "5\n"
     ]
    }
   ],
   "source": [
    "### Fix the error here\n",
    "#The correct code to execute the above idea is:\n",
    "\n",
    "A = 3\n",
    "B = 2\n",
    "C = A+B\n",
    "print(C)\n"
   ]
  },
  {
   "cell_type": "markdown",
   "metadata": {},
   "source": [
    "### Problem 2 (2 points): \n",
    "    \n",
    "Consider the quadratic equation $ax^2 + bx + c=0$ with roots \n",
    "\n",
    "$$ x_{1} = \\frac{-b + \\sqrt{b^2 -4ac}}{2a} \\qquad x_{2} = \\frac{-b - \\sqrt{b^2 -4ac}}{2a}. $$\n",
    "\n",
    "What are the problems with the following program? Fix the errors so that it matches the correct solution."
   ]
  },
  {
   "cell_type": "code",
   "execution_count": 6,
   "metadata": {},
   "outputs": [
    {
     "name": "stdout",
     "output_type": "stream",
     "text": [
      "The roots are  -0.2679491924311228 -3.732050807568877\n",
      "The correct roots are  [-3.73205081 -0.26794919]\n"
     ]
    }
   ],
   "source": [
    "from math import sqrt  #This is one way to get the square root function\n",
    "\n",
    "\n",
    "#### Erroneous code. Make corrections here\n",
    "a = 2; b = 8; c = 2\n",
    "q = b*b - 4*a*c\n",
    "q_sr = sqrt(q)\n",
    "\n",
    "x1 = (-b + q_sr)/(2*a)\n",
    "x2 = (-b - q_sr)/(2*a)\n",
    "####\n",
    "\n",
    "print('The roots are ', x1, x2)\n",
    "\n",
    "# Correct roots\n",
    "import numpy as np\n",
    "print('The correct roots are ', np.roots([a,b,c]))"
   ]
  },
  {
   "cell_type": "markdown",
   "metadata": {},
   "source": [
    "### Explain the error here\n",
    "The error occurred in the lines where x1 and x2 are being computed. You need to have parenthesis around the denominator for each root otherwise the computer will perform the division by 2 first and then multiply by a.\n"
   ]
  },
  {
   "cell_type": "markdown",
   "metadata": {},
   "source": [
    "### Problem 3 (3 points):\n",
    "    \n",
    "Floating point numbers do not behave like real numbers. Verify whether or not the formulas hold in floating point arithmetic.\n",
    "1. $0.1 + 0.3 = 0.4$\n",
    "2. $\\sin^2(x) + \\cos^2(x) = 1$ (for x = $\\pi/4$)\n",
    "3. $(a-b)^2 = a^2 -2ab + b^2$ (for $a = \\pi/4$ and $b = 1$).\n",
    "\n",
    "Check out: [What programmers should know about floating point numbers](https://floating-point-gui.de/) or what [xkcd](https://floating-point-gui.de/xkcd/) has to say on this subject."
   ]
  },
  {
   "cell_type": "code",
   "execution_count": 9,
   "metadata": {},
   "outputs": [
    {
     "name": "stdout",
     "output_type": "stream",
     "text": [
      "True for '==' check\n",
      "0.1 + 0.3 = 0.4 in floating point numbers for epsilon = 1e-16\n"
     ]
    }
   ],
   "source": [
    "# 3.1 Check if 0.1 + 0.3 = 0.4\n",
    "\n",
    "#== check in python\n",
    "print(0.1 + 0.3 == 0.4, \"for '==' check\")\n",
    "\n",
    "#method mentioned in class, machine epsilon check\n",
    "eps = 10**-16\n",
    "if (abs((0.1+0.3)-0.4)) < eps:\n",
    "    print(\"0.1 + 0.3 = 0.4 in floating point numbers for epsilon =\", eps) "
   ]
  },
  {
   "cell_type": "code",
   "execution_count": 14,
   "metadata": {},
   "outputs": [
    {
     "name": "stdout",
     "output_type": "stream",
     "text": [
      "False for '==' check\n",
      "Equation 2 holds in python for epsilon = 1e-15\n"
     ]
    }
   ],
   "source": [
    "# 3.2 Check if \\sin^2(x) + \\cos^2(x) = 1\n",
    "from math import sin, cos, pi\n",
    "#define x as given\n",
    "x = pi/4.0 #floating point\n",
    "\n",
    "\n",
    "#== check\n",
    "print(sin(x)**2 + cos(x)**2 == 1, \"for '==' check\")\n",
    "\n",
    "#machine epsilon check\n",
    "eps = 10**-15\n",
    "if (abs((sin(x)**2 + cos(x)**2)-1) < eps):\n",
    "    print(\"Equation 2 holds in python for epsilon =\", eps)\n",
    "else:\n",
    "    print(\"Equation 2 does not hold for epsilon =\", eps)\n",
    "    \n",
    "    "
   ]
  },
  {
   "cell_type": "code",
   "execution_count": 12,
   "metadata": {},
   "outputs": [
    {
     "name": "stdout",
     "output_type": "stream",
     "text": [
      "False for '==' check\n",
      "True for epsilon =  1e-16\n"
     ]
    }
   ],
   "source": [
    "# 3.3  Check if (a-b)^2 = a^2 -2ab + b^2\n",
    "from math import pi\n",
    "a = pi/4.0; b=1\n",
    "\n",
    "lhs = (a-b)**2\n",
    "rhs = a**2 - 2*a*b + b**2\n",
    "#== check\n",
    "print(lhs == rhs, \"for '==' check\")\n",
    "\n",
    "#machine epsilon check\n",
    "eps = 10**-16\n",
    "print(abs(lhs-rhs)<eps, \"for epsilon = \", eps)"
   ]
  },
  {
   "cell_type": "markdown",
   "metadata": {},
   "source": [
    "### Problem 4 (3 points):\n",
    "    \n",
    "The area of a triangle with vertices $(x_1,y_1)$, $(x_2,y_2)$, and $(x_3,y_3)$ numbered in counterclockwise direction is \n",
    "\n",
    "$$ A = \\frac{1}{2}|x_2y_3 -x_3y_2- x_1y_3 + x_3y_1 + x_1 y_2 -x_2 y_1 |.$$\n",
    "\n",
    "Implement this formula by filling in the missing blanks. Run the cell to check if your program is executing correctly."
   ]
  },
  {
   "cell_type": "code",
   "execution_count": 15,
   "metadata": {},
   "outputs": [
    {
     "name": "stdout",
     "output_type": "stream",
     "text": [
      "Test 1\n",
      "The computed area is 1.0, and the correct area is 1.0.\n",
      "The absolute error is 0\n",
      "\n",
      "\n",
      "Test 2\n",
      "The computed area is 25.0, and the correct area is 25.0.\n",
      "The absolute error is 0\n",
      "\n",
      "\n"
     ]
    }
   ],
   "source": [
    "def trianglearea(x1,y1,x2,y2,x3,y3):\n",
    "    \"\"\"\n",
    "    This function computes the area of a triangle with vertices (x_1,y_1), (x_2,y_2), and (x_3,y_3).\n",
    "    The inputs are assumed to be real numbers.\n",
    "    \n",
    "    \"\"\"\n",
    "    \n",
    "    ### Fill in the missing line here\n",
    "    A = (0.5)*abs(x2*y3-x3*y2-x1*y3+x3*y1+x1*y2-x2*y1)\n",
    "    \n",
    "    return A\n",
    "\n",
    "\n",
    "def testtrianglearea():\n",
    "    \"\"\"\n",
    "    This function tests the correctness of your implementation\n",
    "    \n",
    "    \"\"\"\n",
    "    # Test 1: Vertices (0,0), (1,0), (0,2)\n",
    "    Acomp = trianglearea(0,0,1,0,0,2)\n",
    "    Atrue = 1.0\n",
    "    print('Test 1')\n",
    "    print(\"The computed area is {0}, and the correct area is {1}.\".format(Acomp,Atrue))\n",
    "    print(\"The absolute error is %0.15g\" % (abs(Atrue - Acomp)))\n",
    "    print('\\n')\n",
    "    \n",
    "    # Test 2: \n",
    "    Acomp = trianglearea(2,1,8,9,1,8)\n",
    "    Atrue = 25.0\n",
    "    print('Test 2')\n",
    "    print(\"The computed area is {0}, and the correct area is {1}.\".format(Acomp,Atrue))\n",
    "    print(\"The absolute error is %0.15g\" % (abs(Atrue - Acomp)))\n",
    "    print('\\n')\n",
    "    \n",
    "    return\n",
    "\n",
    "#Testing your implementation\n",
    "testtrianglearea()\n",
    "    "
   ]
  },
  {
   "cell_type": "code",
   "execution_count": null,
   "metadata": {},
   "outputs": [],
   "source": []
  }
 ],
 "metadata": {
  "kernelspec": {
   "display_name": "Python 3",
   "language": "python",
   "name": "python3"
  },
  "language_info": {
   "codemirror_mode": {
    "name": "ipython",
    "version": 3
   },
   "file_extension": ".py",
   "mimetype": "text/x-python",
   "name": "python",
   "nbconvert_exporter": "python",
   "pygments_lexer": "ipython3",
   "version": "3.7.4"
  }
 },
 "nbformat": 4,
 "nbformat_minor": 2
}
