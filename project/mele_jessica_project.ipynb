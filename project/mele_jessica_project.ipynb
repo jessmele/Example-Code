{
 "cells": [
  {
   "cell_type": "markdown",
   "metadata": {},
   "source": [
    "# MA 591: Final Project\n",
    "\n",
    "Clustering on NLP Datasets\n",
    "\n",
    "Jessica Mele\n"
   ]
  },
  {
   "cell_type": "markdown",
   "metadata": {},
   "source": [
    "# Introduction:\n",
    "\n",
    "Clustering is a category of unsupervised learning techniques used to discover some underlying features or hidden structures of a dataset. Clustering techniques rely on the defitions of similarity and differences among instances in the data. The overarching goal of clustering is to unveil a natural grouping in a dataset such that:\n",
    "\n",
    "- Instances grouped to the same cluster are as similar as possible.\n",
    "- Instances grouped to different clusters are as different as possible.\n",
    "\n",
    "Some commonly used distance functions to define similarity and differences are Minkowski, Euclidean, Cosine and Pearson. Depending on the complexity of the data set one distance function might be more appropriate than others and so it is important to have a clear definition of distance measurements before implementing any clustering algorithm. [1]\n",
    "\n",
    "\n",
    "There are different types of clustering algorithms based on: \n",
    "- Partition\n",
    "- Heirarchy\n",
    "- Fuzzy Theory\n",
    "- Distribution\n",
    "- Density\n",
    "- Graph Theory\n",
    "- Grid\n",
    "- Fractal Theory\n",
    "- Model\n",
    "\n",
    "\n",
    "*Motivation:* This project will focus on analyzing the results from clustering based on **partition** on free-text datasets. With the increasing availability of electronic records, the ability to analyze free-text data is becoming even more important now more than ever. In particular, finding a way to classify the data is extremely important to researchers focused on creating predictive models. In most cases, there does not exist a list of ground truth labels and so an efficient clustering technique is essentail to faciliate the automation of classifying free-text data so that this information can be included in machine learning models. In particular, this project was interesting to me because my research is focused on creating predictive models and finding the best method to transform and include free-text data to improve prediction accuracy. \n",
    "\n"
   ]
  },
  {
   "cell_type": "markdown",
   "metadata": {},
   "source": [
    "# Methodology:\n",
    "The standard process for clustering free-text data can be generalized by the following steps:\n",
    "\n",
    "    \n",
    "\n",
    "1. Data selection/extraction\n",
    "2. Text pre-processing\n",
    "3. Vectorization\n",
    "4. If necessary, dimensionality reduction\n",
    "5. Clustering\n",
    "6. Evaluation and description in terms of the data        \n",
    "\n"
   ]
  },
  {
   "cell_type": "markdown",
   "metadata": {},
   "source": [
    "## K-Means Clustering:\n",
    "\n",
    "K-Means clustering is a type of partition clustering and the main idea relies on using the center points of data as the center of the cluster. The data then gets partitioned based on how \"close\" a point is to the center of the cluster. The algorithm works by iteratively updating the center of the cluster and re-assigning data points to a cluster until either a maximum number of iterations is reached or a tolerance level of change in the clusters is not met.  K-Means is widely used in clustering because it has linear time complexity and in general is very efficient if certain assumptions are met.\n",
    "\n",
    "One of the drawbacks of K-Means Clustering are the assumptions that you know how many clusters exist within the data and that the data is actually separable meaning that there exists no overlap between clusters. Another drawback is that the distance between data points and their respective centers is computed using the Euclidean distance which is sensitive to high-dimensional data, meaning that this metric can \"explode\" in higher dimensions ultimately yielding a poor cluster performance. [2]\n",
    "\n",
    "The iterative method can best be summed up by:\n",
    "\n",
    "1. Pick a starting set of center points (optimized methods determine the best starting points) and \n",
    "2. Assign each element in the dataset to a cluster defined by the center point.\n",
    "3. Update the center of the cluster to be the center of the data points in the cluster. \n",
    "4. Repeat the 2nd and 3rd steps until a maximum number of iterations is reached or there is a barely noticeable update between cluster assignments. [2]\n",
    "\n",
    "\n",
    "To help combat some of the above assumptions we have the elbow method to help determine the optimal number of clusters and the Python package SciKit-Learn utilizes a method K-Means++ to help determine optimal starting points to assist with iterative convergence to the optimal clustering. The elbow method utilizes a metric called 'inertia' which is the Sum of Squared Errors (SSEs) of each point in the cluster to it's respective center point. The goal is find the number of clusters in which the distortion/inertia begins to increase most rapidly. K-Means++ iteratively finds the best starting center points by creating a set of center points and assigning each data point a weighted probability given by the sum of the squared distance of each remaining data point to the current center points to determine whether or not it will be included in the set of center points. Then, the algorithm proceeds with regular K-Means. [2]"
   ]
  },
  {
   "cell_type": "code",
   "execution_count": 1,
   "metadata": {},
   "outputs": [
    {
     "name": "stderr",
     "output_type": "stream",
     "text": [
      "[nltk_data] Downloading package wordnet to /home/jessica/nltk_data...\n",
      "[nltk_data]   Package wordnet is already up-to-date!\n",
      "[nltk_data] Downloading package stopwords to\n",
      "[nltk_data]     /home/jessica/nltk_data...\n",
      "[nltk_data]   Package stopwords is already up-to-date!\n"
     ]
    }
   ],
   "source": [
    "#Load necessary packages\n",
    "from sklearn.datasets import fetch_20newsgroups\n",
    "from sklearn.feature_extraction import text as txt\n",
    "#from sklearn.feature_extraction.text import TfidfTransformer, CountVectorizer\n",
    "import nltk\n",
    "from nltk.stem import WordNetLemmatizer\n",
    "import string\n",
    "from sklearn.feature_extraction.text import TfidfVectorizer\n",
    "from sklearn.manifold import TSNE\n",
    "import numpy as np\n",
    "from sklearn.cluster import KMeans\n",
    "import matplotlib.pyplot as plt\n",
    "from matplotlib import cm \n",
    "from sklearn.metrics import silhouette_samples\n",
    "from nltk.corpus import stopwords\n",
    "from sklearn.metrics import confusion_matrix\n",
    "import pandas as pd\n",
    "from sklearn.metrics import classification_report\n",
    "\n",
    "nltk.download('wordnet')\n",
    "nltk.download('stopwords')\n",
    "\n",
    "#Some code to beautify the plots\n",
    "plt.rcParams['figure.figsize'] = [10, 5]\n",
    "plt.rcParams['xtick.labelsize'] = 14\n",
    "plt.rcParams['ytick.labelsize'] = 14\n"
   ]
  },
  {
   "cell_type": "markdown",
   "metadata": {},
   "source": [
    "# Implementation:\n",
    "## Loading the data set.\n",
    "\n",
    "SciKit Learn has a few datasets available for downloading to use with their machine learning packages. While searching for NLP datasets I came across one called **20 NewsGroups**. This dataset is comprised of a collection of newsgroup documents from 20 different categories. It was recommended on the website to load the data without headers, footers and quotes to make the data more realistic. In order to avoid memory allocation errors and be able to showcase the clustering performance I loaded text from three very different categories: comp.windows.x, soc.religion.christian and rec.motorcycles."
   ]
  },
  {
   "cell_type": "code",
   "execution_count": 2,
   "metadata": {},
   "outputs": [],
   "source": [
    "\n",
    "#'alt.atheism', 'talk.politics.guns', 'sci.med'\n",
    "\n",
    "categories = ['comp.windows.x', 'soc.religion.christian','rec.motorcycles'] #specify 3 categories for implementation\n",
    "data_20newsgroups_train = fetch_20newsgroups(subset = 'train', remove = ('headers','footers','quotes'), \\\n",
    "                                             categories = categories,shuffle = True, random_state = 42)\n",
    "#data_20newsgroups_test = fetch_20newsgroups(subset = 'test', categories = categories, shuffle = True, random_state = 42)\n",
    "\n",
    "#stop_words = txt.ENGLISH_STOP_WORDS #load stop words\n",
    "\n",
    "#takes a while to run, only run once\n"
   ]
  },
  {
   "cell_type": "markdown",
   "metadata": {},
   "source": [
    "## Text pre-processing:\n",
    "\n",
    "For every element in the dataset we need to process it by removing stop words, numbers, and any more irrelevant information to try to reduce the number of features and normalize the data set. The below method @text_process takes in a string as an argument and removes punctuation and numbers. It also normalizes all of the words in the string to lower case. Then, a lemmatizer is used to create tokens of the roots of each word. This further reduces the number of features by only considering the root of each word and words with the same roots will be categorized the same. Then, the function returns a list of processed tokens."
   ]
  },
  {
   "cell_type": "code",
   "execution_count": 3,
   "metadata": {},
   "outputs": [],
   "source": [
    "#Processing text\n",
    "def text_process(text):\n",
    "    '''\n",
    "    Takes in a string argument and transforms it by removing predefined stop words, punctuation, digits and\\\n",
    "    unimportant characters - lemmatization.\n",
    "    Inputs: text: string to process\n",
    "    Output: A list of tokens, roots only, without punctuation.\n",
    "    \n",
    "    Reference: #https://medium.com/@rohithramesh1991/unsupervised-text-clustering \\\n",
    "    -using-natural-language-processing-nlp-1a8bc18b048d\n",
    "    '''\n",
    "    \n",
    "    \n",
    "    stemmer = WordNetLemmatizer() #lemmatization object\n",
    "    temp = [char for char in text if char not in string.punctuation] #create a list of characters that are not punctuation\n",
    "    temp = ''.join([i for i in temp if not i.isdigit()])  #appends characters that are not digits\n",
    "    temp = [word.lower() for word in temp.split() if word not in stopwords.words('english')] #transforms all words to lower case to normalize\n",
    "    return [stemmer.lemmatize(word) for word in temp] #lemmatize takes the roots and the set returns unique tokens\n",
    "    "
   ]
  },
  {
   "cell_type": "markdown",
   "metadata": {},
   "source": [
    "## Vectorization:\n",
    "Now we need to take the processed text and transform them into something recognizable by the computer. This is called vectorization. The TfidfVectorizer object from SciKit-Learn converts a collection of raw documents to a matrix of TF-IDF features. The TF-IDF features include a 'vocabulary' of words from the documents and assigns a value related to the frequency of each word in the respective documents. The less frequent a word is the higher the TF-IDF value, meaning the more unique a word is in the document the greater weight is assigned to it for clustering purposes. It is important to note that the result of the fit_transform of this Object on the data set returns a large sparse matrix of TF-IDF values for each document."
   ]
  },
  {
   "cell_type": "code",
   "execution_count": 4,
   "metadata": {},
   "outputs": [
    {
     "name": "stdout",
     "output_type": "stream",
     "text": [
      "(1790, 21989)\n"
     ]
    }
   ],
   "source": [
    "\n",
    "train_data = data_20newsgroups_train.data\n",
    "#targets = train_data.target\n",
    "\n",
    "\n",
    "vectorizer = TfidfVectorizer(analyzer = text_process, ngram_range =(1, 3)) #create vectorizer object\n",
    "vectors_train = vectorizer.fit_transform(train_data) #returns a sparse data set\n",
    "\n",
    "\n",
    "\n",
    "print(vectors_train.shape)\n",
    "vectors_train_arr = vectors_train.toarray() #transform from sparse matrix to dense array\n",
    "\n",
    "\n"
   ]
  },
  {
   "cell_type": "markdown",
   "metadata": {},
   "source": [
    "## Dimensionality Reduction:\n",
    "\n",
    "The above TF-IDF transform results in a sparse matrix of size (1790,21989) which means that there are 1790 documents in the set and 21951 features after the vectorization. This is an extremely high dimensionality which will make K-Means more difficult to visualize as well as implement. The goal here is to find a projection of the data into a space of lower dimensionality. I tried three methods: SparsePCA, truncatedSVD and t-SNE. After evaluation of K-Means model performance and run-time I found that t-SNE is the preferred method for this dataset. t-SNE is t-Distributed Stochastic Neighbor Embedding. This method implements a nonlinear dimensionality reduction and is known to be successful in reducing high dimensional data into much lower spaces of 2 or 3 dimensions. Here, 2 dimensions is sufficient and allows me to showcase the results of the clustering algorithm. You can see from the below graph that even after the transformation there doesn't look like a good separation between the data points in this space. At least, it does not appear intuitive from this graph. Let's proceed to evaluate how well K-Means performs."
   ]
  },
  {
   "cell_type": "code",
   "execution_count": 5,
   "metadata": {},
   "outputs": [
    {
     "data": {
      "image/png": "[encoded data removed]",
      "text/plain": [
       "<Figure size 720x360 with 1 Axes>"
      ]
     },
     "metadata": {
      "needs_background": "light"
     },
     "output_type": "display_data"
    }
   ],
   "source": [
    "#from sklearn.decomposition import TruncatedSVD\n",
    "\n",
    "'''\n",
    "PCA = SparsePCA(n_components = 2)\n",
    "PCA_train = PCA.fit_transform(vectors_train_arr)\n",
    "\n",
    "'''\n",
    "\n",
    "tsne = TSNE(n_components = 2)\n",
    "TSNE_train = tsne.fit_transform(vectors_train_arr)\n",
    "\n",
    "\n",
    "#tSVD = TruncatedSVD(n_components = 200)\n",
    "#tSVD_train = tSVD.fit_transform(vectors_train)\n",
    "plt.figure()\n",
    "plt.scatter(TSNE_train[:,0], TSNE_train[:,1], color = 'blue')\n",
    "plt.title('Training Data after tSNE Transformation to 2-D', size = 14)\n",
    "plt.xlabel('tSNE Component 1', size = 14)\n",
    "plt.ylabel('tSNE Component 2', size = 14)\n",
    "plt.show()\n"
   ]
  },
  {
   "cell_type": "markdown",
   "metadata": {},
   "source": [
    "## Clustering:\n",
    "\n",
    "**Finding the optimal number of clusters:** \n",
    "Now, I know from pre-loading the dataset that the number of clusters that should exist in this loaded dataset is 3. Let's utilize the elbow method and observe whether this method illustrates that the optimal number of clusters for this dataset is in fact 3. Recall from above that we are looking for the point in which the distoration begins to increase the most rapidly. Here, that is around number of clusters = 3 and we can confirm that this is the number we will use for K-Means clustering.\n",
    "\n",
    "### Finding the optimal number of clusters:"
   ]
  },
  {
   "cell_type": "code",
   "execution_count": 6,
   "metadata": {},
   "outputs": [
    {
     "data": {
      "image/png": "[encoded data removed]",
      "text/plain": [
       "<Figure size 720x360 with 1 Axes>"
      ]
     },
     "metadata": {
      "needs_background": "light"
     },
     "output_type": "display_data"
    }
   ],
   "source": [
    "\n",
    "#how many clusters k should we have (optimal k using inertia)\n",
    "#print(KMeans.inertia_) #trying different values \n",
    "inertias=[]\n",
    "X = TSNE_train #vectors_train\n",
    "max_nc = 11\n",
    "\n",
    "for k in np.arange(1,max_nc): \n",
    "    temp = KMeans(n_clusters=k,random_state=0) \n",
    "    temp.fit(X) \n",
    "    inertias.append(temp.inertia_) \n",
    "    #print(k)\n",
    "    \n",
    "x_axis = np.arange(1,max_nc) \n",
    "plt.figure()\n",
    "plt.plot(x_axis,inertias,marker='o') \n",
    "plt.xlabel('Number of Clusters', size = 14) \n",
    "plt.ylabel('Distoration Value', size = 14) \n",
    "plt.title('Elbow Method for Finding the Optimal Number of Clusters', size = 14) \n",
    "plt.show() "
   ]
  },
  {
   "cell_type": "markdown",
   "metadata": {},
   "source": [
    "### Fitting a K-Means Model to the data:\n",
    "Here we build a KMeans object with the optimal number of clusters found above. The initial starting point is given by 'k-means++' which means that we will iteratively solve for the best center points of each cluster before proceeding with the  k-means algorithm. The maximum number of iterations is 500 with a specific tolerance of 0.00001. The fit_predict function assigns each element in the dataset to a cluster with a specified label."
   ]
  },
  {
   "cell_type": "code",
   "execution_count": 7,
   "metadata": {},
   "outputs": [
    {
     "name": "stdout",
     "output_type": "stream",
     "text": [
      "1790\n",
      "1790\n"
     ]
    }
   ],
   "source": [
    "n_clusters = 3\n",
    "\n",
    "km = KMeans(n_clusters = n_clusters, init = 'k-means++', max_iter = 500, tol = 0.00001)\n",
    "#db = DBSCAN(min_samples = 5, eps = .5)\n",
    "km1 = KMeans(n_clusters = n_clusters, init = 'k-means++', max_iter = 500, tol = 0.00001)\n",
    "km1.fit(TSNE_train)\n",
    "print(len(vectors_train_arr))\n",
    "\n",
    "#don't delete this\n",
    "fit_20news = km.fit_predict(vectors_train)\n",
    "print(len(fit_20news))\n",
    "#fit_pca = km.fit_predict(PCA_train)\n",
    "fit_tsne = km.fit_predict(TSNE_train)\n"
   ]
  },
  {
   "cell_type": "markdown",
   "metadata": {},
   "source": [
    "# Results and Testing:"
   ]
  },
  {
   "cell_type": "code",
   "execution_count": 8,
   "metadata": {},
   "outputs": [
    {
     "name": "stdout",
     "output_type": "stream",
     "text": [
      "Label distributions with no dimensionality reduction:\n",
      "First 20: [1 0 2 0 0 2 0 2 0 0 1 1 0 2 2 0 0 2 0 0]\n",
      "Bin count: [979 403 408]\n",
      "\n",
      "Label distributions with t-SNE dimensionality reduction:\n",
      "First 20: [2 0 0 0 1 0 1 0 0 0 2 1 1 0 0 0 1 0 0 0]\n",
      "Bin count: [812 515 463]\n",
      "\n",
      "True label distributions:\n",
      "First 20: [0 1 2 0 1 2 1 2 0 2 0 0 1 2 2 1 1 2 2 1]\n",
      "Bin count: [593 598 599]\n"
     ]
    }
   ],
   "source": [
    "\n",
    "#predict_PCA = fit_pca\n",
    "#print(len(fit_20news))\n",
    "print(\"Label distributions with no dimensionality reduction:\")\n",
    "print(\"First 20:\", fit_20news[:20])\n",
    "print(\"Bin count:\", np.bincount(fit_20news))\n",
    "print()\n",
    "#print(predict_PCA[:20])\n",
    "#print(np.bincount(predict_PCA))\n",
    "print(\"Label distributions with t-SNE dimensionality reduction:\")\n",
    "print(\"First 20:\", fit_tsne[:20])\n",
    "print(\"Bin count:\", np.bincount(fit_tsne))\n",
    "print()\n",
    "print(\"True label distributions:\")\n",
    "print(\"First 20:\", data_20newsgroups_train.target[:20])\n",
    "print(\"Bin count:\", np.bincount(data_20newsgroups_train.target))\n",
    "#print(fit_tSVD[:20])\n",
    "#print(np.bincount(fit_tSVD))\n",
    "#print(fit_20news_DB[:200])\n",
    "#print(np.bincount(fit_20news_DB))\n"
   ]
  },
  {
   "cell_type": "markdown",
   "metadata": {},
   "source": [
    "## Viewing the results of clustering in the 2-dimensional t-SNE component space:"
   ]
  },
  {
   "cell_type": "code",
   "execution_count": 9,
   "metadata": {},
   "outputs": [
    {
     "data": {
      "image/png": "[encoded data removed]",
      "text/plain": [
       "<Figure size 720x360 with 1 Axes>"
      ]
     },
     "metadata": {
      "needs_background": "light"
     },
     "output_type": "display_data"
    }
   ],
   "source": [
    "\n",
    "fig,ax = plt.subplots()\n",
    "#plt.scatter(X[:, 0], X[:, 1], c=y_kmeans, s=50, cmap='viridis')\n",
    "#ax.scatter(TSNE_train[:,0], TSNE_train[:, 1], c = fit_tsne, cmap ='viridis', label = 'viridis')\n",
    "ax.scatter(TSNE_train[fit_tsne == 0,0], TSNE_train[fit_tsne==0,1], color = 'blue', label = 'Cluster 0')\n",
    "ax.scatter(TSNE_train[fit_tsne == 1,0], TSNE_train[fit_tsne==1,1], color = 'yellow', label = 'Cluster 1')\n",
    "ax.scatter(TSNE_train[fit_tsne == 2,0], TSNE_train[fit_tsne==2,1], color = 'green', label = 'Cluster 2')\n",
    "centers = km1.cluster_centers_\n",
    "ax.scatter(centers[:, 0], centers[:, 1], c='black', alpha= 0.75, marker = '*', s = 200,label = 'centers')\n",
    "ax.legend()\n",
    "plt.xlabel('tSNE Component 1', size = 14)\n",
    "plt.ylabel('tSNE Component 2', size = 14)\n",
    "plt.title('Results of Clustering in Two-Dimensions', size = 14)\n",
    "plt.show()\n",
    "\n",
    "\n",
    "#get_Sil(TSNE_train, fit_tsne)\n",
    "#get_Sil(tSVD_train, fit_tSVD)"
   ]
  },
  {
   "cell_type": "markdown",
   "metadata": {},
   "source": [
    "## Evaluation using Silhouettes:\n",
    "\n",
    "Below we define a function that computes the Silhouette score and produces a graph showing silhouette vaues for every element in the dataset. Here it is important to note that Silhouette scores range from -1 to 1. The score is evaluated based on cluster cohesion, $a_i$ (average distance between a sample point and all other points in the same cluster) and cluster separation, $b_i$ (average distance between a sample point and all other points in the nearest cluster). The score for each instance in the dataset is computed by the following $S_i = \\frac{b_i - a_i}{max\\{b_i, a_i\\}}$\n"
   ]
  },
  {
   "cell_type": "code",
   "execution_count": 10,
   "metadata": {},
   "outputs": [],
   "source": [
    "#Evaluating KMeans Clustering\n",
    "def get_Sil(X,y):\n",
    "    '''\n",
    "    Silhouette score evaluation on fitted KMeans clustering model.\n",
    "    Inputs: X: type list, original data that we performed the clustering on\n",
    "    y: type list, holds assigned clustering values\n",
    "    \n",
    "    Outputs: Silhouette score and a plot of all Silhoutte scores for every element in the dataset.\n",
    "    \n",
    "    Reference: Python Machine Learning - 2nd Edition, pg.517\n",
    "    '''\n",
    "    y_km = y\n",
    "    cluster_labels=np.unique(y_km) \n",
    "    n_cluster=cluster_labels.shape[0]\n",
    "\n",
    "    sil_vals=silhouette_samples(X,y_km,metric='euclidean')\n",
    "    sil_score = np.mean(sil_vals)\n",
    "    y_ax_lower,y_ax_upper= 0, 0 \n",
    "    yticks=[]\n",
    "\n",
    "    for i,c in enumerate(cluster_labels): \n",
    "        sil_v=sil_vals[y_km==c] \n",
    "        sil_v.sort() \n",
    "        y_ax_upper+=len(sil_v) \n",
    "        color=cm.jet(float(i)/n_cluster) \n",
    "        plt.barh(range(y_ax_lower,y_ax_upper),sil_v,height=1.0,color=color) \n",
    "        yticks.append((y_ax_lower + y_ax_upper) / 2.) \n",
    "        y_ax_lower += len(sil_v)\n",
    "        \n",
    "    plt.axvline(sil_score,ymin=0,ymax=y_ax_upper,color='red',linestyle=\"--\") \n",
    "    plt.yticks(yticks, cluster_labels + 1) \n",
    "    plt.ylabel('Cluster', size = 14) \n",
    "    plt.xlabel('Silhouette Coefficients', size = 14)\n",
    "    plt.title('Silhouette Coefficients By Cluster', size = 14)\n",
    "    plt.show() \n",
    "    \n",
    "    return sil_score"
   ]
  },
  {
   "cell_type": "code",
   "execution_count": 11,
   "metadata": {
    "scrolled": false
   },
   "outputs": [
    {
     "data": {
      "image/png": "[encoded data removed]",
      "text/plain": [
       "<Figure size 720x360 with 1 Axes>"
      ]
     },
     "metadata": {
      "needs_background": "light"
     },
     "output_type": "display_data"
    },
    {
     "name": "stdout",
     "output_type": "stream",
     "text": [
      "The Silhoutte Score is: 0.30947465\n"
     ]
    }
   ],
   "source": [
    "sil_score = get_Sil(TSNE_train, fit_tsne) #evaluate the clustering\n",
    "print('The Silhoutte Score is:', sil_score)\n"
   ]
  },
  {
   "cell_type": "markdown",
   "metadata": {},
   "source": [
    "### Using the true labels to re-label the clustered data:\n",
    "**Confusion Matrix**\n",
    "\n",
    "Using a majority rule approach, here we relabel the clustered data with their respective true labels. The idea behind this portion is to find the maximum bincount for each label in the data set. For example, the first row in the below matrix corresponds to the number of data points that were labeled as 0, 1, and 2 with the corresponding indices of the predicted values set to 0. This means we can relabel the data by taking the index of the largest element in the first row and use that to relabel our 0s in the predicted set."
   ]
  },
  {
   "cell_type": "code",
   "execution_count": 12,
   "metadata": {},
   "outputs": [
    {
     "name": "stdout",
     "output_type": "stream",
     "text": [
      "0 [ 64 165 583]\n",
      "1 [ 81 421  13]\n",
      "2 [448  12   3]\n"
     ]
    }
   ],
   "source": [
    "targets = data_20newsgroups_train.target\n",
    "for i in range(3):\n",
    "    print(i, np.bincount(targets[fit_tsne == i]))"
   ]
  },
  {
   "cell_type": "code",
   "execution_count": 13,
   "metadata": {},
   "outputs": [],
   "source": [
    "#re-labeling to match the true labels\n",
    "\n",
    "def get_confusion(targets, predictedLabels):\n",
    "    '''\n",
    "    Re-labels the data based on the true label predictions, computes accuracy and gives confusion matrix.\n",
    "    Input: Targets: list of true labels\n",
    "    Predict: list of predicted cluster labels\n",
    "    \n",
    "    Return [acc, cm, predict]: Accuracy of the labeling and the confusion matrix and newly re-labeled data\n",
    "    '''\n",
    "    predict = predictedLabels\n",
    "    \n",
    "    numUnique = len(np.unique(predict))\n",
    "    \n",
    "    for i in range(numUnique):\n",
    "        \n",
    "        predict[predict == i] = np.argmax(np.bincount(targets[predict == i])) + numUnique \n",
    "\n",
    "    for c in range(len(targets)):\n",
    "        predict[c] += -numUnique\n",
    "\n",
    "    acc = np.mean(targets == predict)\n",
    "    cm = confusion_matrix(targets, predict)\n",
    "    \n",
    "    return [acc, cm, predict]\n",
    "\n",
    "def getResults(cm):\n",
    "    '''\n",
    "    Inputs: Array, confusion matrix dim n-classes by n-classes.\n",
    "    Actual vs Predicted (rows vs columns)\n",
    "    Teturns: TN, TP, FP, FN for each class 'ova' approach\n",
    "    '''\n",
    "    \n",
    "    n = cm.shape[0]\n",
    "    cc = 0\n",
    "    results = np.zeros((n,4))\n",
    "    \n",
    "    for cc in range(n):\n",
    "        TN = 0; TP = 0; FP = 0; FN = 0\n",
    "        for i in range(n):\n",
    "            for j in range(n):\n",
    "                if j != cc and i != cc:\n",
    "                    TN += cm[i][j]\n",
    "                elif i == cc and j == cc:\n",
    "                    TP += cm[i][j]\n",
    "                elif i != cc and j == cc:\n",
    "                    FP += cm[i][j]\n",
    "                elif i == cc and j != cc:\n",
    "                    FN += cm[i][j]\n",
    "            \n",
    "        results[cc][:] = [TN, TP, FP, FN]\n",
    "        #cc += 1\n",
    "    return results\n",
    "\n",
    "def getMetrics(arr):\n",
    "    '''\n",
    "    Takes an array of nclasses with TN, TP, FP, FN for each row\n",
    "    and prints the accuracy, precision, recall and F1 for each class\n",
    "    Inputs: array of shape (nclasses, 4) with true negtives, true positives, false positives and false negatives\n",
    "    Output: Data frame with accuracy, precision, recall and F1 score for each class in a one v all approach\n",
    "    '''\n",
    "    \n",
    "    n = arr.shape[0]\n",
    "    headers = ['Accuracy','Precision','Recall','F1']\n",
    "    temp = []\n",
    "    \n",
    "    for i in range(n):\n",
    "        TN = arr[i][0]; TP = arr[i][1]; FP = arr[i][2]; FN = arr[i][3]\n",
    "        \n",
    "        acc = (TN + TP)/(TN + FP + TP + FN)\n",
    "        precision = TP/(TP + FP)\n",
    "        recall = TP/(TP + FN)\n",
    "        F1 = 2*(precision*recall)/(precision + recall)\n",
    "        \n",
    "        '''\n",
    "        print(\"Class:\", i, \"\\nAcc:\", \"{:.3f}\".format(acc), \"\\nPrecision:\", \\\n",
    "              \"{:.3f}\".format(precision), \"\\nRecall:\", \"{:.3f}\".format(recall), \\\n",
    "                  \"\\nF1:\", \"{:.3f}\".format(F1)) \n",
    "        '''\n",
    "        \n",
    "        temp.append([format(acc, '.3f'), format(precision, '.3f'), format(recall, '.3f'), format(F1, '.3f')])\n",
    "        \n",
    "    return pd.DataFrame(temp, columns = headers, index = None)\n",
    "    "
   ]
  },
  {
   "cell_type": "code",
   "execution_count": 14,
   "metadata": {},
   "outputs": [
    {
     "name": "stdout",
     "output_type": "stream",
     "text": [
      "Accuracy is: 0.811\n",
      "Confusion matrix:\n",
      " [[448  81  64]\n",
      " [ 12 421 165]\n",
      " [  3  13 583]]\n",
      "\n",
      "Accuracy, Precision, Recall, F1 for Each Class (One v. All)\n",
      "  Accuracy Precision Recall     F1\n",
      "0    0.911     0.968  0.755  0.848\n",
      "1    0.849     0.817  0.704  0.757\n",
      "2    0.863     0.718  0.973  0.826\n"
     ]
    }
   ],
   "source": [
    "temp = fit_tsne\n",
    "\n",
    "\n",
    "[acc, cm, newLabels] = get_confusion(targets, temp)\n",
    "\n",
    "print(\"Accuracy is:\", format(acc, '.3f'))\n",
    "print(\"Confusion matrix:\\n\", cm)\n",
    "print()\n",
    "print(\"Accuracy, Precision, Recall, F1 for Each Class (One v. All)\")\n",
    "\n",
    "tb = getMetrics(getResults(cm))\n",
    "print(tb)"
   ]
  },
  {
   "cell_type": "markdown",
   "metadata": {},
   "source": [
    "## Testing:\n",
    "\n",
    "Let's test the @text_process function by comparing the initial data with the respective processed output."
   ]
  },
  {
   "cell_type": "code",
   "execution_count": 15,
   "metadata": {},
   "outputs": [],
   "source": [
    "def test_text_process(data):\n",
    "    '''\n",
    "    Built to test the output of the @text_process function defined above.\n",
    "    Inputs: None\n",
    "    Outputs: Prints 5 random data points in the data set and the result from implementing text_process().\n",
    "    The output should be the data points split into lemmatized tokens with no punctuation, numbers and all lower-case.\n",
    "    '''\n",
    "    randnums = np.random.randint(0, len(data), 5) # pick 5 random integers\n",
    "    for idx in randnums:\n",
    "        print(\"index:\", idx)\n",
    "        print(data[idx])\n",
    "        print(text_process(data[idx]))\n",
    "        print()\n"
   ]
  },
  {
   "cell_type": "code",
   "execution_count": 16,
   "metadata": {},
   "outputs": [
    {
     "name": "stdout",
     "output_type": "stream",
     "text": [
      "index: 252\n",
      "\n",
      "\n",
      "I learned when riding bareback as a kid to \"palm-reign\", by just \n",
      "pushing on the right side of the horse's neck with your right palm to turn \n",
      "left - a lot like countersteering. So that came pretty easy to me in the \n",
      "transition to motorcycles. It took a while however to break my habit of \n",
      "kicking the rear fender with my heels to go faster.\n",
      "['i', 'learned', 'riding', 'bareback', 'kid', 'palmreign', 'pushing', 'right', 'side', 'horse', 'neck', 'right', 'palm', 'turn', 'left', 'lot', 'like', 'countersteering', 'so', 'came', 'pretty', 'easy', 'transition', 'motorcycle', 'it', 'took', 'however', 'break', 'habit', 'kicking', 'rear', 'fender', 'heel', 'go', 'faster']\n",
      "\n",
      "index: 1088\n",
      "YESSS!  You make me proud to\n",
      "be an 'Merkun.  Good thing you\n",
      "didn't get shot though. Don't\n",
      "try that with a good'ole boy in Texas.\n",
      "I once had a jeep driver south of Conroe cut me off (I was \n",
      "in my car) after I had flipped him off for doing something really idiotic\n",
      "and senseless.  All 280 lbs of him stretches out of his jeep; he walks\n",
      "back (he is blocking all traffic between Dallas and Houston since the\n",
      "freeway has been squeezed into a single lane) and says to me, \"Stick that\n",
      "finger out again and I'll rip it off your hand and shove it down your\n",
      "sorry-ass throat.\"  I stared straight ahead, unblinking.  A hundred\n",
      "cars were honking.  Eventually he got back into his jeep, face beet-red\n",
      "with anger, and all the rest of the way back to Houston I tailed him, \n",
      "waving, honking, flipping him off, yelling...  I'm glad he decided \n",
      "not to shoot me.\n",
      "/-----b-o-d-y---i-s---t-h-e---b-i-k-e----------------------------\\\n",
      "\\-----------------------s-o-u-l---i-s---t-h-e---r-i-d-e-r--------/\n",
      "\n",
      "['yes', 'you', 'make', 'proud', 'merkun', 'good', 'thing', 'didnt', 'get', 'shot', 'though', 'dont', 'try', 'goodole', 'boy', 'texas', 'i', 'jeep', 'driver', 'south', 'conroe', 'cut', 'i', 'car', 'i', 'flipped', 'something', 'really', 'idiotic', 'senseless', 'all', 'lb', 'stretch', 'jeep', 'walk', 'back', 'blocking', 'traffic', 'dallas', 'houston', 'since', 'freeway', 'squeezed', 'single', 'lane', 'say', 'stick', 'finger', 'ill', 'rip', 'hand', 'shove', 'sorryass', 'throat', 'i', 'stared', 'straight', 'ahead', 'unblinking', 'a', 'hundred', 'car', 'honking', 'eventually', 'got', 'back', 'jeep', 'face', 'beetred', 'anger', 'rest', 'way', 'back', 'houston', 'i', 'tailed', 'waving', 'honking', 'flipping', 'yelling', 'im', 'glad', 'decided', 'shoot', 'bodyisthebike', 'soulistherider']\n",
      "\n",
      "index: 1529\n",
      "I'm trying to create a button that has both a label and a bitmap using\n",
      "the MenuButton widget.  Is this possible?  Right now, all I get is the\n",
      "bitmap -- no sign of the label.\n",
      "\n",
      "Any help would be appreciated.\n",
      "\n",
      "\n",
      "['im', 'trying', 'create', 'button', 'label', 'bitmap', 'using', 'menubutton', 'widget', 'is', 'possible', 'right', 'i', 'get', 'bitmap', 'sign', 'label', 'any', 'help', 'would', 'appreciated']\n",
      "\n",
      "index: 549\n",
      "Would anyone out there in DoDland be able to help me out in giving me\n",
      "a contact to purchase a pair of military air-borne combat boots (9 1/2\n",
      "D in size).  These boots (so I have read here on rec.moto) are calf\n",
      "height boots that use only velcro for enclosure.  I have phoned around\n",
      "and nobody seems to carry such an item.  I admit I have not gone into\n",
      "the deepest bowels of NYC yet for the search but I have made some\n",
      "calls to several of the bigger army/navy type stores with no luck.\n",
      "\n",
      "Anyone out there know of a place that does carry such an item as well\n",
      "as does mail order?  Any help would be appreciated.\n",
      "['would', 'anyone', 'dodland', 'able', 'help', 'giving', 'contact', 'purchase', 'pair', 'military', 'airborne', 'combat', 'boot', 'd', 'size', 'these', 'boot', 'i', 'read', 'recmoto', 'calf', 'height', 'boot', 'use', 'velcro', 'enclosure', 'i', 'phoned', 'around', 'nobody', 'seems', 'carry', 'item', 'i', 'admit', 'i', 'gone', 'deepest', 'bowel', 'nyc', 'yet', 'search', 'i', 'made', 'call', 'several', 'bigger', 'armynavy', 'type', 'store', 'luck', 'anyone', 'know', 'place', 'carry', 'item', 'well', 'mail', 'order', 'any', 'help', 'would', 'appreciated']\n",
      "\n",
      "index: 138\n",
      "\n",
      "\n",
      "Did this happen to Jesus? I don't think so, not from what I heard. He lived\n",
      "ONE DAY of suffering and died. If the wages of sin is the above paragraph, then\n",
      "JESUS DIDN'T PAY FOR OUR SINS, DID HE?\n",
      "\n",
      "I'd be surprised to see the moderator let this one through, but I seriously\n",
      "want a reasonable explanation for this.\n",
      "['did', 'happen', 'jesus', 'i', 'dont', 'think', 'i', 'heard', 'he', 'lived', 'one', 'day', 'suffering', 'died', 'if', 'wage', 'sin', 'paragraph', 'jesus', 'didnt', 'pay', 'for', 'our', 'sin', 'did', 'he', 'id', 'surprised', 'see', 'moderator', 'let', 'one', 'i', 'seriously', 'want', 'reasonable', 'explanation']\n",
      "\n"
     ]
    }
   ],
   "source": [
    "test_text_process(train_data)"
   ]
  },
  {
   "cell_type": "markdown",
   "metadata": {},
   "source": [
    "### Testing accuracy, precision, recall and F1 Scores\n",
    "\n",
    "Using SciKit-Learn metrics classification report we can compare precision, recall and f1-scores for each class.\n"
   ]
  },
  {
   "cell_type": "code",
   "execution_count": 17,
   "metadata": {},
   "outputs": [],
   "source": [
    "\n",
    "#d = classification_report(targets, predict, output_dict = True)\n",
    "#temp = d['0']\n",
    "#print(d)\n",
    "\n",
    "def test_Metrics(myMetrics, myAcc, targets, predict):\n",
    "    d = classification_report(targets, predict, output_dict = True)\n",
    "    #print(classification_report(targets, predict))\n",
    "\n",
    "    #print(d['0'])\n",
    "    numClasses = 3\n",
    "    \n",
    "    chars = ['0','1','2']\n",
    "    i = 0\n",
    "    for nn in chars:\n",
    "        print('Check Class:', nn)\n",
    "        temp = d[nn]\n",
    "        #temp = d['0']\n",
    "        \n",
    "        #test precision\n",
    "        prec = temp['precision']\n",
    "        precN = format(prec, '.3f')\n",
    "        myPrec = myMetrics.iloc[i,1]\n",
    "        \n",
    "        print('Precision error is:', np.absolute(float(precN)- float(myPrec)))\n",
    "        \n",
    "        #test recall\n",
    "        recall = temp['recall']\n",
    "        recallN = format(recall, '.3f')\n",
    "        myRecall = myMetrics.iloc[i,2]\n",
    "        print('Recall error is:', np.absolute(float(recallN)- float(myRecall)))\n",
    "        \n",
    "        #test f1\n",
    "        f1 = temp['f1-score']\n",
    "        f1N = format(f1, '.3f')\n",
    "        myF1 = myMetrics.iloc[i,3]\n",
    "        print('Precision error is:', np.absolute(float(f1N)- float(myF1)))\n",
    "        print()\n",
    "        \n",
    "        i += 1\n",
    "    #test acc\n",
    "    print('Accuracy error is:', np.absolute(float(d['accuracy']) - myAcc))\n"
   ]
  },
  {
   "cell_type": "code",
   "execution_count": 18,
   "metadata": {},
   "outputs": [
    {
     "name": "stdout",
     "output_type": "stream",
     "text": [
      "Check Class: 0\n",
      "Precision error is: 0.0\n",
      "Recall error is: 0.0\n",
      "Precision error is: 0.0\n",
      "\n",
      "Check Class: 1\n",
      "Precision error is: 0.0\n",
      "Recall error is: 0.0\n",
      "Precision error is: 0.0\n",
      "\n",
      "Check Class: 2\n",
      "Precision error is: 0.0\n",
      "Recall error is: 0.0\n",
      "Precision error is: 0.0\n",
      "\n",
      "Accuracy error is: 0.0\n"
     ]
    }
   ],
   "source": [
    "test_Metrics(tb, acc, targets, newLabels)"
   ]
  },
  {
   "cell_type": "markdown",
   "metadata": {},
   "source": [
    "# Comments and Future Work: \n",
    "\n",
    "The Silhouette Score is 0.3037. This means that there was not enough distinction between the clusters. This is expected because as we saw in the original plot of the transformed data there did not exist a clear separation between the data points into 3 clusters. \n",
    "\n",
    "However, after we re-labeled the clusters with the respective true labels you can see very promising results with the accuracy, precision and recall for each class. The confusion matrix shown above is diagonally dominant, which means that more data points were classified correctly than not. Even though the Silhouette score was low and we could not find enough 'difference' between respective clusters, the method was still able to perform well in terms of overall classification once we compared with the true labels. \n",
    "\n",
    "In the future, if I was not concerned about exceeding memory on my computer I would try to run the dataset with all 20 categories and not just picking 3. The original dataset consists of articles of widely different lengths, which I believe is causing a data imbalance which is impacting the TF-IDF values in the vectorization process. A cleaner, more balanced dataset will probably yield better clusters and allow K-Means to be more efficient. The original data had 20 categories each split into 6 sub-categories. I would also be interested to see if the K-Means algorithm would work better at clustering all of the data into the overarching 6 categories or if a hierarchical model would be a more appropriate method for clustering this data as a whole.\n"
   ]
  },
  {
   "cell_type": "markdown",
   "metadata": {},
   "source": [
    "## References\n",
    "\n",
    "(1) Xu, Dongkuan, Tian, Yinghie. 2015. A Comprehensive Survey of Clustering Algorithms. Springer. (165-193)\n",
    "\n",
    "(2) Raschka, Sebastian, Mirjalili, Vahid. 2016. Python Machine Learning. (2nd Edition). Packt Publishing. \n",
    "\n",
    "(3) Ramesh, Rohith. 2019. Unsupervised-Text-Clustering using Natural Language Processing (NLP) url: https://medium.com/@rohithramesh1991/unsupervised-text-clustering-using-natural-language-processing-nlp-1a8bc18b048d \n",
    "\n",
    "Packages and toolkits:\n",
    "\n",
    "(4) Pedregosa, F. and Varoquaux, G. and Gramfort, A. and Michel, V.\n",
    "         and Thirion, B. and Grisel, O. and Blondel, M. and Prettenhofer, P.\n",
    "         and Weiss, R. and Dubourg, V. and Vanderplas, J. and Passos, A. and\n",
    "         Cournapeau, D. and Brucher, M. and Perrot, M. and Duchesnay, E. 2011. Scikit-Learn: Machine Learning in Python. Journal of Machine Learning Research. Volume 12. (2825-2830).\n",
    "         \n",
    "(5) Bird, Steven, Edward Loper and Ewan Klein (2009), Natural Language Processing with Python. O’Reilly Media Inc.\n",
    "\n",
    "\n",
    "\n",
    "\n",
    "\n"
   ]
  },
  {
   "cell_type": "markdown",
   "metadata": {},
   "source": [
    "## Function Docustrings\n"
   ]
  },
  {
   "cell_type": "code",
   "execution_count": 19,
   "metadata": {},
   "outputs": [
    {
     "name": "stdout",
     "output_type": "stream",
     "text": [
      "Help on function text_process in module __main__:\n",
      "\n",
      "text_process(text)\n",
      "    Takes in a string argument and transforms it by removing predefined stop words, punctuation, digits and    unimportant characters - lemmatization.\n",
      "    Inputs: text: string to process\n",
      "    Output: A list of tokens, roots only, without punctuation.\n",
      "    \n",
      "    Reference: #https://medium.com/@rohithramesh1991/unsupervised-text-clustering     -using-natural-language-processing-nlp-1a8bc18b048d\n",
      "\n",
      "Help on function get_Sil in module __main__:\n",
      "\n",
      "get_Sil(X, y)\n",
      "    Silhouette score evaluation on fitted KMeans clustering model.\n",
      "    Inputs: X: type list, original data that we performed the clustering on\n",
      "    y: type list, holds assigned clustering values\n",
      "    \n",
      "    Outputs: Silhouette score and a plot of all Silhoutte scores for every element in the dataset.\n",
      "    \n",
      "    Reference: Python Machine Learning - 2nd Edition, pg.517\n",
      "\n",
      "Help on function get_confusion in module __main__:\n",
      "\n",
      "get_confusion(targets, predictedLabels)\n",
      "    Re-labels the data based on the true label predictions, computes accuracy and gives confusion matrix.\n",
      "    Input: Targets: list of true labels\n",
      "    Predict: list of predicted cluster labels\n",
      "    \n",
      "    Return [acc, cm, predict]: Accuracy of the labeling and the confusion matrix and newly re-labeled data\n",
      "\n",
      "Help on function getResults in module __main__:\n",
      "\n",
      "getResults(cm)\n",
      "    Inputs: Array, confusion matrix dim n-classes by n-classes.\n",
      "    Actual vs Predicted (rows vs columns)\n",
      "    Teturns: TN, TP, FP, FN for each class 'ova' approach\n",
      "\n",
      "Help on function getMetrics in module __main__:\n",
      "\n",
      "getMetrics(arr)\n",
      "    Takes an array of nclasses with TN, TP, FP, FN for each row\n",
      "    and prints the accuracy, precision, recall and F1 for each class\n",
      "    Inputs: array of shape (nclasses, 4) with true negtives, true positives, false positives and false negatives\n",
      "    Output: Data frame with accuracy, precision, recall and F1 score for each class in a one v all approach\n",
      "\n"
     ]
    }
   ],
   "source": [
    "help(text_process)\n",
    "help(get_Sil)\n",
    "help(get_confusion)\n",
    "help(getResults)\n",
    "help(getMetrics)"
   ]
  },
  {
   "cell_type": "code",
   "execution_count": null,
   "metadata": {},
   "outputs": [],
   "source": []
  }
 ],
 "metadata": {
  "kernelspec": {
   "display_name": "Python 3",
   "language": "python",
   "name": "python3"
  },
  "language_info": {
   "codemirror_mode": {
    "name": "ipython",
    "version": 3
   },
   "file_extension": ".py",
   "mimetype": "text/x-python",
   "name": "python",
   "nbconvert_exporter": "python",
   "pygments_lexer": "ipython3",
   "version": "3.7.6"
  }
 },
 "nbformat": 4,
 "nbformat_minor": 4
}
